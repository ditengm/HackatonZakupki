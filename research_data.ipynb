{
 "cells": [
  {
   "cell_type": "markdown",
   "id": "fb66d2b4",
   "metadata": {},
   "source": [
    "## Цель\n",
    "*Построить сервис (тг-канал), который будет помогать поставщику принимтаь наиболее эффективные решения для введения бизнеса*"
   ]
  },
  {
   "cell_type": "markdown",
   "id": "271f0e1e",
   "metadata": {},
   "source": [
    "# Теория\n",
    "1. Понятия не информационного кластера\n",
    "2. Понятие информационного кластера\n",
    "3. Признаки, которые важны при формировани\n",
    "4. Цели кластера\n",
    "5. Идеи для фич"
   ]
  },
  {
   "cell_type": "markdown",
   "id": "fd2f2967",
   "metadata": {},
   "source": [
    "## Понятия не информационного кластера\n",
    "«кластер – сконцентрированные по географическому признаку группы взаимосвязанных компаний, специализированных поставщиков, поставщиков услуг, фирм в родственных отраслях, а также связанных с их деятельностью организаций (например, университетов, агентств по стандартизации, торговых объединений) в определенных областях, конкурирующих, но при этом ведущих совместную работу»\n",
    "\n",
    "Из определения Портера можно выделить три отличительные черты кластера, которые, в принципе, используются в качестве основополагающих практически во всех дальнейших работах, посвященных данной теме:\n",
    "\n",
    "· концентрация производителей на одной территории;\n",
    "\n",
    "· взаимосвязанность компаний – участников кластера;\n",
    "\n",
    "· взаимодействие внутри кластера является комбинацией конкуренции и кооперации."
   ]
  },
  {
   "cell_type": "markdown",
   "id": "362dbbeb",
   "metadata": {},
   "source": [
    "## Понятие информационного кластера\n",
    "\n",
    "Отличительные черты цифрового кластера:\n",
    "\n",
    "1. Ключевые трансакции производятся в цифровом виртуальном пространстве.\n",
    "\n",
    "2. Трансакционные издержки при взаимодействии внутри кластера ниже, чем при взаимодействии с контрагентами за его пределами.\n",
    "\n",
    "3. Независимость эффективности взаимодействия участников кластера от их географического местоположения.\n",
    "\n",
    "Цифровой кластер преодолевает ряд проблем, присущих его традиционным формам. К ним можно отнести следующее:\n",
    "\n",
    "1. Рост издержек, связанных с перегруженностью обслуживающей инфраструктуры. Начиная с некоторого момента, рост концентрации компаний начинает вызывать рост цен на недвижимость и вспомогательные услуги, возрастает негативное воздействие на экологию, увеличивается стоимость трудовых ресурсов и пр.\n",
    "\n",
    "2. Компании, входящие в кластер, зачастую имеют стимулы и возможности для затруднения входа в него новых участников. В результате уровень конкуренции внутри кластера может снизиться, что негативно скажется на его эффективности. К тому же подобные барьеры замедляют смену участников кластера, что позволяет функционировать не самым успешным компаниям, которые уже находятся внутри него.\n",
    "\n",
    "3. Ограничение доступа к ресурсам. Участники традиционного кластера привязаны к определенной территории, что ограничивает выбор поставщиков ресурсов и зачастую заставляет сотрудничать не с самыми эффективными из них."
   ]
  },
  {
   "cell_type": "markdown",
   "id": "078ea99c",
   "metadata": {},
   "source": [
    "## Признаки, которые важны при формировани\n",
    "\n",
    "1. Но мы сейчас не о крупных торговых операторах. Им кластеризация не нужна. Как видно из определения кластера, данного Портером, там должен быть **принцип взаимодополнения**\n",
    "\n",
    "2. **Географическое соседствование компаний**. Для бизнеса, который садится на трафик, это принципиально важно. По-другому никак. Потому что расположение в шаговой доступности друг от друга удобно клиенту, вокруг интересов которого и складывается весь процесс.\n",
    "\n",
    "3. **это действия в определенной сфере**. Под этим будем понимать направленность интересов клиентского трафика на соответствие одной из его жизненных «озабоченностей», как например:\n",
    "- заботливого родителя, ищущего что-то для ребенка \n",
    "- человека, желающего качественно провести досуг \n",
    "- человека, озабоченного празднованием значимого события\n",
    "\n",
    "4. **это принцип взаимодополнения**. Именно он и экономит время клиента, позволяя собрать в одном месте максимальное количество операторов, удовлетворяющих спрос представителя одной из жизненных ролей, примеры которых приведены выше.\n",
    "\n",
    "## Цели кластера\n",
    "\n",
    "**Думаю, достойной целью в нашем случае может быть обеспечение высоких темпов развития предприятий, образующих кластер, за счет повышения их конкурентоспособности.**\n",
    "\n",
    "- Удобство для клиента – экономия ему времени и бензина (если до кластера надо ехать). \n",
    "- Возможность экономить на продвижении, которое или хотя бы фрагменты которого могут быть общим для всех участников. \n",
    "- Возможность экономить на вспомогательных функциях, которые тоже можно сделать общими для всех участников кластера (например, послепродажный сервис, клининг или даже торговая интернет-площадка). \n",
    "- Частичное перекрывание низкого сезона для одних участников за счет высокого трафика тех, у кого сейчас сезон высокий. Эффективное взаимообогащение участников практическим опытом друг друга.\n",
    "\n",
    "Подробнее на Retail.ru:\n",
    "https://www.retail.ru/articles/klasternyy-podkhod-v-roznichnoy-torgovle/\n",
    "https://www.retail.ru/articles/klasternyy-podkhod-v-roznichnoy-torgovle/"
   ]
  },
  {
   "cell_type": "markdown",
   "id": "2eef5164",
   "metadata": {},
   "source": [
    "## Идеи для фич\n",
    "1. Территория, где находится место закупки\\продажи\n",
    "2. Объём рынка + территория -> специализированные товары\n",
    "3. Как-то оценить взаимодействия компаний (на местной территории)\n",
    "4. Как выполняются желания потребителей поставщиком, мб построить метрику"
   ]
  },
  {
   "cell_type": "markdown",
   "id": "9ad58536",
   "metadata": {},
   "source": [
    "## Что будем выдавать\n",
    "1. Конкуренция\n",
    "2. Адекватная цена (ценообразавние)\n",
    "3. Спрос\n",
    "4. Затраты на продукцию"
   ]
  },
  {
   "cell_type": "code",
   "execution_count": 19,
   "id": "48a759da",
   "metadata": {},
   "outputs": [],
   "source": [
    "import pandas as pd\n",
    "import matplotlib as plt\n",
    "import seaborn as sns\n",
    "import numpy as np"
   ]
  },
  {
   "cell_type": "code",
   "execution_count": 14,
   "id": "8ba8a779",
   "metadata": {},
   "outputs": [
    {
     "data": {
      "text/html": [
       "<div>\n",
       "<style scoped>\n",
       "    .dataframe tbody tr th:only-of-type {\n",
       "        vertical-align: middle;\n",
       "    }\n",
       "\n",
       "    .dataframe tbody tr th {\n",
       "        vertical-align: top;\n",
       "    }\n",
       "\n",
       "    .dataframe thead th {\n",
       "        text-align: right;\n",
       "    }\n",
       "</style>\n",
       "<table border=\"1\" class=\"dataframe\">\n",
       "  <thead>\n",
       "    <tr style=\"text-align: right;\">\n",
       "      <th></th>\n",
       "      <th>product_name</th>\n",
       "      <th>price</th>\n",
       "      <th>product_vat_rate</th>\n",
       "      <th>product_msr</th>\n",
       "      <th>product_characteristics</th>\n",
       "      <th>okpd2_code</th>\n",
       "      <th>okpd2_name</th>\n",
       "      <th>inn</th>\n",
       "      <th>country_code</th>\n",
       "    </tr>\n",
       "  </thead>\n",
       "  <tbody>\n",
       "    <tr>\n",
       "      <th>0</th>\n",
       "      <td>Драм-юнит Cet CET8997</td>\n",
       "      <td>7605.00</td>\n",
       "      <td>0%</td>\n",
       "      <td>Штука</td>\n",
       "      <td>NaN</td>\n",
       "      <td>28.23.25.000</td>\n",
       "      <td>Части и принадлежности прочих офисных машин</td>\n",
       "      <td>6a2325da490021b46bb00834ab4a560a</td>\n",
       "      <td>156</td>\n",
       "    </tr>\n",
       "    <tr>\n",
       "      <th>1</th>\n",
       "      <td>Лук репчатый</td>\n",
       "      <td>48.75</td>\n",
       "      <td>Без НДС</td>\n",
       "      <td>Килограмм</td>\n",
       "      <td>Дополнительные показатели (характеристики): Ук...</td>\n",
       "      <td>01.13.43.110</td>\n",
       "      <td>Лук репчатый</td>\n",
       "      <td>c8f328b188e78a1673db8cc2db1b6828</td>\n",
       "      <td>643</td>\n",
       "    </tr>\n",
       "    <tr>\n",
       "      <th>2</th>\n",
       "      <td>Карандаш механический (Страна происхождения : ...</td>\n",
       "      <td>8.00</td>\n",
       "      <td>20%</td>\n",
       "      <td>Штука</td>\n",
       "      <td>NaN</td>\n",
       "      <td>32.99.12.130</td>\n",
       "      <td>Карандаши механические</td>\n",
       "      <td>9d785973706feeff180ee96a247135e6</td>\n",
       "      <td>156</td>\n",
       "    </tr>\n",
       "    <tr>\n",
       "      <th>3</th>\n",
       "      <td>Имплантаты для остеосинтеза варианты исполнени...</td>\n",
       "      <td>5200.00</td>\n",
       "      <td>Без НДС</td>\n",
       "      <td>Штука</td>\n",
       "      <td>NaN</td>\n",
       "      <td>32.50.50.190</td>\n",
       "      <td>Изделия медицинские, в том числе хирургические...</td>\n",
       "      <td>5a35794bbd7c29420b25479364c26c7b</td>\n",
       "      <td>616</td>\n",
       "    </tr>\n",
       "    <tr>\n",
       "      <th>4</th>\n",
       "      <td>Говядина замороженная для детского питания</td>\n",
       "      <td>490.59</td>\n",
       "      <td>Без НДС</td>\n",
       "      <td>Килограмм</td>\n",
       "      <td>NaN</td>\n",
       "      <td>10.11.31.130</td>\n",
       "      <td>Говядина и телятина замороженные для детского ...</td>\n",
       "      <td>91c23daf46d288344828eac627074bf3</td>\n",
       "      <td>643</td>\n",
       "    </tr>\n",
       "  </tbody>\n",
       "</table>\n",
       "</div>"
      ],
      "text/plain": [
       "                                        product_name    price  \\\n",
       "0                              Драм-юнит Cet CET8997  7605.00   \n",
       "1                                       Лук репчатый    48.75   \n",
       "2  Карандаш механический (Страна происхождения : ...     8.00   \n",
       "3  Имплантаты для остеосинтеза варианты исполнени...  5200.00   \n",
       "4         Говядина замороженная для детского питания   490.59   \n",
       "\n",
       "  product_vat_rate product_msr  \\\n",
       "0               0%       Штука   \n",
       "1          Без НДС   Килограмм   \n",
       "2              20%       Штука   \n",
       "3          Без НДС       Штука   \n",
       "4          Без НДС   Килограмм   \n",
       "\n",
       "                             product_characteristics    okpd2_code  \\\n",
       "0                                                NaN  28.23.25.000   \n",
       "1  Дополнительные показатели (характеристики): Ук...  01.13.43.110   \n",
       "2                                                NaN  32.99.12.130   \n",
       "3                                                NaN  32.50.50.190   \n",
       "4                                                NaN  10.11.31.130   \n",
       "\n",
       "                                          okpd2_name  \\\n",
       "0        Части и принадлежности прочих офисных машин   \n",
       "1                                       Лук репчатый   \n",
       "2                             Карандаши механические   \n",
       "3  Изделия медицинские, в том числе хирургические...   \n",
       "4  Говядина и телятина замороженные для детского ...   \n",
       "\n",
       "                                inn country_code  \n",
       "0  6a2325da490021b46bb00834ab4a560a          156  \n",
       "1  c8f328b188e78a1673db8cc2db1b6828          643  \n",
       "2  9d785973706feeff180ee96a247135e6          156  \n",
       "3  5a35794bbd7c29420b25479364c26c7b          616  \n",
       "4  91c23daf46d288344828eac627074bf3          643  "
      ]
     },
     "execution_count": 14,
     "metadata": {},
     "output_type": "execute_result"
    }
   ],
   "source": [
    "data_contracts = pd.read_csv(\"Контракты 44ФЗ.csv\", sep=';')\n",
    "data_contracts.head()"
   ]
  },
  {
   "cell_type": "code",
   "execution_count": 16,
   "id": "677ae929",
   "metadata": {},
   "outputs": [
    {
     "name": "stdout",
     "output_type": "stream",
     "text": [
      "<class 'pandas.core.frame.DataFrame'>\n",
      "RangeIndex: 1000 entries, 0 to 999\n",
      "Data columns (total 9 columns):\n",
      " #   Column                   Non-Null Count  Dtype  \n",
      "---  ------                   --------------  -----  \n",
      " 0   product_name             1000 non-null   object \n",
      " 1   price                    1000 non-null   float64\n",
      " 2   product_vat_rate         1000 non-null   object \n",
      " 3   product_msr              1000 non-null   object \n",
      " 4   product_characteristics  297 non-null    object \n",
      " 5   okpd2_code               1000 non-null   object \n",
      " 6   okpd2_name               1000 non-null   object \n",
      " 7   inn                      1000 non-null   object \n",
      " 8   country_code             992 non-null    object \n",
      "dtypes: float64(1), object(8)\n",
      "memory usage: 70.4+ KB\n"
     ]
    }
   ],
   "source": [
    "data_contracts.info()"
   ]
  },
  {
   "cell_type": "code",
   "execution_count": 17,
   "id": "009e84e9",
   "metadata": {},
   "outputs": [
    {
     "data": {
      "text/html": [
       "<div>\n",
       "<style scoped>\n",
       "    .dataframe tbody tr th:only-of-type {\n",
       "        vertical-align: middle;\n",
       "    }\n",
       "\n",
       "    .dataframe tbody tr th {\n",
       "        vertical-align: top;\n",
       "    }\n",
       "\n",
       "    .dataframe thead th {\n",
       "        text-align: right;\n",
       "    }\n",
       "</style>\n",
       "<table border=\"1\" class=\"dataframe\">\n",
       "  <thead>\n",
       "    <tr style=\"text-align: right;\">\n",
       "      <th></th>\n",
       "      <th>price</th>\n",
       "    </tr>\n",
       "  </thead>\n",
       "  <tbody>\n",
       "    <tr>\n",
       "      <th>count</th>\n",
       "      <td>1.000000e+03</td>\n",
       "    </tr>\n",
       "    <tr>\n",
       "      <th>mean</th>\n",
       "      <td>2.530439e+04</td>\n",
       "    </tr>\n",
       "    <tr>\n",
       "      <th>std</th>\n",
       "      <td>3.118873e+05</td>\n",
       "    </tr>\n",
       "    <tr>\n",
       "      <th>min</th>\n",
       "      <td>7.000000e-02</td>\n",
       "    </tr>\n",
       "    <tr>\n",
       "      <th>25%</th>\n",
       "      <td>4.999250e+01</td>\n",
       "    </tr>\n",
       "    <tr>\n",
       "      <th>50%</th>\n",
       "      <td>2.622000e+02</td>\n",
       "    </tr>\n",
       "    <tr>\n",
       "      <th>75%</th>\n",
       "      <td>1.975230e+03</td>\n",
       "    </tr>\n",
       "    <tr>\n",
       "      <th>max</th>\n",
       "      <td>7.947255e+06</td>\n",
       "    </tr>\n",
       "  </tbody>\n",
       "</table>\n",
       "</div>"
      ],
      "text/plain": [
       "              price\n",
       "count  1.000000e+03\n",
       "mean   2.530439e+04\n",
       "std    3.118873e+05\n",
       "min    7.000000e-02\n",
       "25%    4.999250e+01\n",
       "50%    2.622000e+02\n",
       "75%    1.975230e+03\n",
       "max    7.947255e+06"
      ]
     },
     "execution_count": 17,
     "metadata": {},
     "output_type": "execute_result"
    }
   ],
   "source": [
    "data_contracts.describe()"
   ]
  },
  {
   "cell_type": "code",
   "execution_count": 36,
   "id": "5730f5ad",
   "metadata": {},
   "outputs": [
    {
     "data": {
      "text/plain": [
       "(1000, 9)"
      ]
     },
     "execution_count": 36,
     "metadata": {},
     "output_type": "execute_result"
    }
   ],
   "source": [
    "data_contracts.shape"
   ]
  },
  {
   "cell_type": "markdown",
   "id": "1fc5e233",
   "metadata": {},
   "source": [
    "Категориальные и вещественные колонки"
   ]
  },
  {
   "cell_type": "code",
   "execution_count": 25,
   "id": "90c93da8",
   "metadata": {},
   "outputs": [],
   "source": [
    "cat_cols = data_contracts.loc[:, 'object' == data_contracts.dtypes].columns\n",
    "num_cols = data_contracts.loc[:, 'object' != data_contracts.dtypes].columns"
   ]
  },
  {
   "cell_type": "code",
   "execution_count": 26,
   "id": "b887fef3",
   "metadata": {},
   "outputs": [
    {
     "data": {
      "text/plain": [
       "Index(['product_name', 'product_vat_rate', 'product_msr',\n",
       "       'product_characteristics', 'okpd2_code', 'okpd2_name', 'inn',\n",
       "       'country_code'],\n",
       "      dtype='object')"
      ]
     },
     "execution_count": 26,
     "metadata": {},
     "output_type": "execute_result"
    }
   ],
   "source": [
    "cat_cols"
   ]
  },
  {
   "cell_type": "code",
   "execution_count": 27,
   "id": "ba833ff4",
   "metadata": {},
   "outputs": [
    {
     "data": {
      "text/plain": [
       "Index(['price'], dtype='object')"
      ]
     },
     "execution_count": 27,
     "metadata": {},
     "output_type": "execute_result"
    }
   ],
   "source": [
    "num_cols"
   ]
  },
  {
   "cell_type": "code",
   "execution_count": 44,
   "id": "57e30321",
   "metadata": {},
   "outputs": [
    {
     "name": "stdout",
     "output_type": "stream",
     "text": [
      "Уникальные значения в колонках\n",
      "\n",
      "['0%' 'Без НДС' '20%' '10%'] - product_vat_rate\n",
      "\n",
      "['Штука' 'Килограмм' 'Упаковка' 'Номер' 'Пара (2 шт.)' 'Набор'\n",
      " 'Литр кубический дециметр' 'Киловатт-час' 'Гигакалория' 'Комплект'\n",
      " 'Условная единица' 'Метр' 'Погонный метр'\n",
      " 'Мегаватт-час 1000 киловатт-часов' 'Дето-день' 'Флакон' 'Киловатт'\n",
      " 'Тысяча кубических метров' 'Квадратный метр' 'Кубический метр' 'Рулон'\n",
      " 'Бутылка' 'Пачка' 'Бобина' 'Гигакалория в час'] - product_msr\n",
      "\n"
     ]
    }
   ],
   "source": [
    "cat_cols_specific = ['product_vat_rate', 'product_msr']\n",
    "print(f\"Уникальные значения в колонках\\n\")\n",
    "\n",
    "for cat_col in cat_cols_specific:\n",
    "    print(f\"{data_contracts[cat_col].unique()} - {cat_col}\\n\")"
   ]
  },
  {
   "cell_type": "code",
   "execution_count": 49,
   "id": "e321ee85",
   "metadata": {},
   "outputs": [
    {
     "data": {
      "text/html": [
       "<div>\n",
       "<style scoped>\n",
       "    .dataframe tbody tr th:only-of-type {\n",
       "        vertical-align: middle;\n",
       "    }\n",
       "\n",
       "    .dataframe tbody tr th {\n",
       "        vertical-align: top;\n",
       "    }\n",
       "\n",
       "    .dataframe thead th {\n",
       "        text-align: right;\n",
       "    }\n",
       "</style>\n",
       "<table border=\"1\" class=\"dataframe\">\n",
       "  <thead>\n",
       "    <tr style=\"text-align: right;\">\n",
       "      <th></th>\n",
       "      <th>product_name</th>\n",
       "      <th>price</th>\n",
       "      <th>product_vat_rate</th>\n",
       "      <th>product_msr</th>\n",
       "      <th>product_characteristics</th>\n",
       "      <th>okpd2_code</th>\n",
       "      <th>okpd2_name</th>\n",
       "      <th>inn</th>\n",
       "      <th>country_code</th>\n",
       "    </tr>\n",
       "  </thead>\n",
       "  <tbody>\n",
       "    <tr>\n",
       "      <th>50</th>\n",
       "      <td>электроэнергия</td>\n",
       "      <td>4.181818e+00</td>\n",
       "      <td>20%</td>\n",
       "      <td>Киловатт-час</td>\n",
       "      <td>NaN</td>\n",
       "      <td>35.14.10.000</td>\n",
       "      <td>Услуги по торговле электроэнергией</td>\n",
       "      <td>e5281eb53766f3fb6a8f211a6acfcb03</td>\n",
       "      <td>643</td>\n",
       "    </tr>\n",
       "    <tr>\n",
       "      <th>94</th>\n",
       "      <td>Закупка электрической энергии</td>\n",
       "      <td>1.105500e+06</td>\n",
       "      <td>20%</td>\n",
       "      <td>Киловатт-час</td>\n",
       "      <td>NaN</td>\n",
       "      <td>35.11.10.122</td>\n",
       "      <td>Электроэнергия, произведенная блок-станциями т...</td>\n",
       "      <td>af1671d8ce2dcc4d8ac091a9dcb56646</td>\n",
       "      <td>643</td>\n",
       "    </tr>\n",
       "    <tr>\n",
       "      <th>133</th>\n",
       "      <td>поставка электрической энергии</td>\n",
       "      <td>8.954604e+00</td>\n",
       "      <td>Без НДС</td>\n",
       "      <td>Киловатт-час</td>\n",
       "      <td>NaN</td>\n",
       "      <td>35.12.1</td>\n",
       "      <td>Услуги по передаче электроэнергии и технологич...</td>\n",
       "      <td>b103cf1b26d68824cc9ca9334609bc1c</td>\n",
       "      <td>643</td>\n",
       "    </tr>\n",
       "    <tr>\n",
       "      <th>410</th>\n",
       "      <td>Электроэнергия 1 полугодие</td>\n",
       "      <td>4.835880e+00</td>\n",
       "      <td>20%</td>\n",
       "      <td>Киловатт-час</td>\n",
       "      <td>NaN</td>\n",
       "      <td>35.11.10.112</td>\n",
       "      <td>Электроэнергия, произведенная теплоэлектроцент...</td>\n",
       "      <td>be5298db8d1a630c994d8e224a815748</td>\n",
       "      <td>643</td>\n",
       "    </tr>\n",
       "    <tr>\n",
       "      <th>423</th>\n",
       "      <td>свет</td>\n",
       "      <td>8.720057e+03</td>\n",
       "      <td>Без НДС</td>\n",
       "      <td>Киловатт-час</td>\n",
       "      <td>NaN</td>\n",
       "      <td>35.12.10.110</td>\n",
       "      <td>Услуги по передаче электроэнергии</td>\n",
       "      <td>9b7c745eeaf68f99c9060bea6fc35778</td>\n",
       "      <td>643</td>\n",
       "    </tr>\n",
       "    <tr>\n",
       "      <th>424</th>\n",
       "      <td>Электроэнергия</td>\n",
       "      <td>9.020000e+00</td>\n",
       "      <td>20%</td>\n",
       "      <td>Киловатт-час</td>\n",
       "      <td>NaN</td>\n",
       "      <td>35.11.10.112</td>\n",
       "      <td>Электроэнергия, произведенная теплоэлектроцент...</td>\n",
       "      <td>a641373cc0c5e5c06be0aac09325fc4b</td>\n",
       "      <td>643</td>\n",
       "    </tr>\n",
       "    <tr>\n",
       "      <th>796</th>\n",
       "      <td>продажа электрической энергии</td>\n",
       "      <td>1.850000e+05</td>\n",
       "      <td>20%</td>\n",
       "      <td>Киловатт-час</td>\n",
       "      <td>NaN</td>\n",
       "      <td>35.13.10.000</td>\n",
       "      <td>Услуги по распределению электроэнергии</td>\n",
       "      <td>ff2dcdbbba0b37d14c439385a714a790</td>\n",
       "      <td>643</td>\n",
       "    </tr>\n",
       "  </tbody>\n",
       "</table>\n",
       "</div>"
      ],
      "text/plain": [
       "                       product_name         price product_vat_rate  \\\n",
       "50                   электроэнергия  4.181818e+00              20%   \n",
       "94    Закупка электрической энергии  1.105500e+06              20%   \n",
       "133  поставка электрической энергии  8.954604e+00          Без НДС   \n",
       "410      Электроэнергия 1 полугодие  4.835880e+00              20%   \n",
       "423                            свет  8.720057e+03          Без НДС   \n",
       "424                  Электроэнергия  9.020000e+00              20%   \n",
       "796   продажа электрической энергии  1.850000e+05              20%   \n",
       "\n",
       "      product_msr product_characteristics    okpd2_code  \\\n",
       "50   Киловатт-час                     NaN  35.14.10.000   \n",
       "94   Киловатт-час                     NaN  35.11.10.122   \n",
       "133  Киловатт-час                     NaN       35.12.1   \n",
       "410  Киловатт-час                     NaN  35.11.10.112   \n",
       "423  Киловатт-час                     NaN  35.12.10.110   \n",
       "424  Киловатт-час                     NaN  35.11.10.112   \n",
       "796  Киловатт-час                     NaN  35.13.10.000   \n",
       "\n",
       "                                            okpd2_name  \\\n",
       "50                  Услуги по торговле электроэнергией   \n",
       "94   Электроэнергия, произведенная блок-станциями т...   \n",
       "133  Услуги по передаче электроэнергии и технологич...   \n",
       "410  Электроэнергия, произведенная теплоэлектроцент...   \n",
       "423                  Услуги по передаче электроэнергии   \n",
       "424  Электроэнергия, произведенная теплоэлектроцент...   \n",
       "796             Услуги по распределению электроэнергии   \n",
       "\n",
       "                                  inn country_code  \n",
       "50   e5281eb53766f3fb6a8f211a6acfcb03          643  \n",
       "94   af1671d8ce2dcc4d8ac091a9dcb56646          643  \n",
       "133  b103cf1b26d68824cc9ca9334609bc1c          643  \n",
       "410  be5298db8d1a630c994d8e224a815748          643  \n",
       "423  9b7c745eeaf68f99c9060bea6fc35778          643  \n",
       "424  a641373cc0c5e5c06be0aac09325fc4b          643  \n",
       "796  ff2dcdbbba0b37d14c439385a714a790          643  "
      ]
     },
     "execution_count": 49,
     "metadata": {},
     "output_type": "execute_result"
    }
   ],
   "source": [
    "data_contracts[data_contracts['product_msr'] == 'Киловатт-час']"
   ]
  },
  {
   "cell_type": "code",
   "execution_count": null,
   "id": "dd926ab8",
   "metadata": {},
   "outputs": [],
   "source": [
    "# Словари для перевода, беру в СИ\n",
    "\n",
    "# Качественные данные, то есть в степени\n",
    "qualitatively_val = {\n",
    "    'Килограмм' : 1000,\n",
    "    'Литр кубический дециметр' : 1000,\n",
    "    'Киловатт-час' : 1000,\n",
    "    'Гигакалория' : \n",
    "} \n",
    "\n",
    "# Количественные данные в шт.\n",
    "amount_val = {'Штука' : 1,\n",
    "              'Упаковка' : 1,\n",
    "             'Номер' : 1, \n",
    "             'Пара (2 шт.)':2,\n",
    "             'Набор':1} "
   ]
  },
  {
   "cell_type": "code",
   "execution_count": null,
   "id": "6a3a309f",
   "metadata": {},
   "outputs": [],
   "source": [
    "for cat_col in cat_cols:\n",
    "    print(f\"{data_contracts[cat_col].nunique()} - {cat_col}\")"
   ]
  },
  {
   "cell_type": "code",
   "execution_count": 38,
   "id": "f82a965b",
   "metadata": {},
   "outputs": [
    {
     "name": "stdout",
     "output_type": "stream",
     "text": [
      "Кол-во пропусков в колонках\n",
      "\n",
      "0 - product_name\n",
      "0 - product_vat_rate\n",
      "0 - product_msr\n",
      "703 - product_characteristics\n",
      "0 - okpd2_code\n",
      "0 - okpd2_name\n",
      "0 - inn\n",
      "8 - country_code\n"
     ]
    }
   ],
   "source": [
    "print(f\"Кол-во пропусков в колонках\\n\")\n",
    "for cat_col in cat_cols:\n",
    "    print(f\"{sum(data_contracts[cat_col].isnull())} - {cat_col}\")"
   ]
  },
  {
   "cell_type": "code",
   "execution_count": null,
   "id": "1abefa1c",
   "metadata": {},
   "outputs": [],
   "source": []
  }
 ],
 "metadata": {
  "kernelspec": {
   "display_name": "Python 3 (ipykernel)",
   "language": "python",
   "name": "python3"
  },
  "language_info": {
   "codemirror_mode": {
    "name": "ipython",
    "version": 3
   },
   "file_extension": ".py",
   "mimetype": "text/x-python",
   "name": "python",
   "nbconvert_exporter": "python",
   "pygments_lexer": "ipython3",
   "version": "3.9.12"
  }
 },
 "nbformat": 4,
 "nbformat_minor": 5
}
